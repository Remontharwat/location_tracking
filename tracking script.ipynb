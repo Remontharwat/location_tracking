{
 "cells": [
  {
   "cell_type": "code",
   "execution_count": 1,
   "id": "5d79f1f1",
   "metadata": {},
   "outputs": [],
   "source": [
    "import phonenumbers\n",
    "from phonenumbers import geocoder\n",
    "import folium\n",
    "from phonenumbers import carrier\n",
    "from opencage.geocoder import OpenCageGeocode"
   ]
  },
  {
   "cell_type": "code",
   "execution_count": 2,
   "id": "ad90a258",
   "metadata": {},
   "outputs": [],
   "source": [
    "key = \"e835edec122f4442902655b910f36c66\""
   ]
  },
  {
   "cell_type": "code",
   "execution_count": 5,
   "id": "e4a1ccdb",
   "metadata": {},
   "outputs": [
    {
     "name": "stdout",
     "output_type": "stream",
     "text": [
      "your phone number with country key :+201278757110\n"
     ]
    }
   ],
   "source": [
    "number = input(\"your phone number with country key :\")"
   ]
  },
  {
   "cell_type": "code",
   "execution_count": 6,
   "id": "8116c3c2",
   "metadata": {},
   "outputs": [],
   "source": [
    "x = phonenumbers.parse(number, None)"
   ]
  },
  {
   "cell_type": "code",
   "execution_count": 7,
   "id": "c9ea2d24",
   "metadata": {},
   "outputs": [],
   "source": [
    "number_location = geocoder.description_for_number(x, \"en\")"
   ]
  },
  {
   "cell_type": "code",
   "execution_count": 8,
   "id": "678d3871",
   "metadata": {},
   "outputs": [
    {
     "name": "stdout",
     "output_type": "stream",
     "text": [
      "Egypt\n"
     ]
    }
   ],
   "source": [
    "print(number_location)"
   ]
  },
  {
   "cell_type": "code",
   "execution_count": 9,
   "id": "b1e24264",
   "metadata": {},
   "outputs": [],
   "source": [
    "service_provider = phonenumbers.parse(number)"
   ]
  },
  {
   "cell_type": "code",
   "execution_count": 10,
   "id": "14a5e289",
   "metadata": {},
   "outputs": [
    {
     "name": "stdout",
     "output_type": "stream",
     "text": [
      "Orange\n"
     ]
    }
   ],
   "source": [
    "print(carrier.name_for_number(service_provider, \"en\"))"
   ]
  },
  {
   "cell_type": "code",
   "execution_count": 11,
   "id": "568d4afd",
   "metadata": {},
   "outputs": [],
   "source": [
    "geocoder = OpenCageGeocode(key)"
   ]
  },
  {
   "cell_type": "code",
   "execution_count": 12,
   "id": "c579a01a",
   "metadata": {},
   "outputs": [],
   "source": [
    "query = str(number_location)"
   ]
  },
  {
   "cell_type": "code",
   "execution_count": 13,
   "id": "bfb8d5a2",
   "metadata": {},
   "outputs": [],
   "source": [
    "results = geocoder.geocode(query)"
   ]
  },
  {
   "cell_type": "code",
   "execution_count": 14,
   "id": "2badc81f",
   "metadata": {},
   "outputs": [
    {
     "name": "stdout",
     "output_type": "stream",
     "text": [
      "26.2540493 29.2675469\n"
     ]
    }
   ],
   "source": [
    "lat =results[0]['geometry']['lat']\n",
    "lng =results[0]['geometry']['lng']\n",
    "print(lat,lng)"
   ]
  },
  {
   "cell_type": "code",
   "execution_count": 15,
   "id": "f1f9a62b",
   "metadata": {},
   "outputs": [],
   "source": [
    "map_location = folium.Map(location = [lng,lat], zoom_start=9)\n",
    "folium.Marker([lat,lng], popup= number_location).add_to(map_location)\n",
    "map_location.save('mylocation.html')"
   ]
  },
  {
   "cell_type": "code",
   "execution_count": null,
   "id": "661b2dab",
   "metadata": {},
   "outputs": [],
   "source": []
  }
 ],
 "metadata": {
  "kernelspec": {
   "display_name": "Python 3 (ipykernel)",
   "language": "python",
   "name": "python3"
  },
  "language_info": {
   "codemirror_mode": {
    "name": "ipython",
    "version": 3
   },
   "file_extension": ".py",
   "mimetype": "text/x-python",
   "name": "python",
   "nbconvert_exporter": "python",
   "pygments_lexer": "ipython3",
   "version": "3.9.12"
  }
 },
 "nbformat": 4,
 "nbformat_minor": 5
}
